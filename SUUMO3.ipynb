{
 "cells": [
  {
   "cell_type": "code",
   "execution_count": 1,
   "id": "e402cea4-93fd-44f2-9231-b55430fd213c",
   "metadata": {},
   "outputs": [
    {
     "data": {
      "text/plain": [
       "'https://suumo.jp/jj/chintai/ichiran/FR301FC001/?ar=040&bs=040&ra=018&cb=0.0&ct=9999999&et=9999999&cn=9999999&mb=0&mt=9999999&shkr1=03&shkr2=03&shkr3=03&shkr4=03&fw2=&ek=336564475&rn=3365'"
      ]
     },
     "execution_count": 1,
     "metadata": {},
     "output_type": "execute_result"
    }
   ],
   "source": [
    "from bs4 import BeautifulSoup\n",
    "import requests\n",
    "url=\"https://suumo.jp/jj/chintai/ichiran/FR301FC001/?ar=040&bs=040&ra=018&cb=0.0&ct=9999999&et=9999999&cn=9999999&mb=0&mt=9999999&shkr1=03&shkr2=03&shkr3=03&shkr4=03&fw2=&ek=336564475&rn=3365\"\n",
    "r=requests.get(url)\n",
    "r.url"
   ]
  },
  {
   "cell_type": "code",
   "execution_count": 2,
   "id": "8dc943a8-e931-4566-ab9a-4907c306f227",
   "metadata": {},
   "outputs": [],
   "source": [
    "soup=BeautifulSoup(r.text)\n",
    "contents=soup.find_all(\"div\",class_=\"cassetteitem\")\n",
    "len(contents)\n",
    "content=contents[0]"
   ]
  },
  {
   "cell_type": "code",
   "execution_count": 3,
   "id": "8d0de2ff-d7aa-4884-905f-405885777170",
   "metadata": {},
   "outputs": [],
   "source": [
    "detail=content.find(\"div\",class_=\"cassetteitem_content\")\n",
    "title=detail.find(\"div\",class_=\"cassetteitem_content-title\").text\n",
    "address=detail.find(\"li\",class_=\"cassetteitem_detail-col1\").text\n",
    "access=detail.find(\"li\",class_=\"cassetteitem_detail-col2\").text\n",
    "age=detail.find(\"li\",class_=\"cassetteitem_detail-col3\").text"
   ]
  },
  {
   "cell_type": "code",
   "execution_count": 4,
   "id": "00a353d4-d9c2-4b35-8795-befa1a1d6d0f",
   "metadata": {},
   "outputs": [],
   "source": [
    "table=content.find(\"table\",class_=\"cassetteitem_other\")\n",
    "tr_tags=table.find_all(\"tr\",class_=\"js-cassette_link\")\n",
    "tr_tag=tr_tags[0]\n",
    "floor,price,first_fee,capasity=tr_tag.find_all(\"td\")[2:6]"
   ]
  },
  {
   "cell_type": "code",
   "execution_count": 5,
   "id": "590ad691-977d-4d63-a428-6ed03ccc9c4c",
   "metadata": {},
   "outputs": [],
   "source": [
    "fee,management_fee=price.find_all(\"li\")\n",
    "deposit,gratuity=first_fee.find_all(\"li\")\n",
    "madori,menseki=capasity.find_all(\"li\")"
   ]
  },
  {
   "cell_type": "code",
   "execution_count": 6,
   "id": "a6b971d1-d065-421e-854b-9105ee014bd9",
   "metadata": {},
   "outputs": [],
   "source": [
    "d={ \"title\":title,\n",
    "   \"address\":address,\n",
    "   \"access\":access,\n",
    "   \"age\":age,\n",
    "   \"floor\":floor.text,\n",
    "   \"fee\":fee.text,\n",
    "   \"management_fee\":management_fee.text,\n",
    "   \"deposit\":deposit.text,\n",
    "   \"gratuity\":gratuity.text,\n",
    "   \"madori\":madori.text,\n",
    "   \"menseki\":menseki.text,\n",
    "  }"
   ]
  },
  {
   "cell_type": "code",
   "execution_count": 14,
   "id": "4d2939f7-93de-4ac1-ba5f-f4af1fab9867",
   "metadata": {},
   "outputs": [],
   "source": [
    "soup=BeautifulSoup(r.text)\n",
    "d_list=[]\n",
    "contents=soup.find_all(\"div\",class_=\"cassetteitem\")\n",
    "table=content.find(\"table\",class_=\"cassetteitem_other\")\n",
    "for content in contents:\n",
    "    detail=content.find(\"div\",class_=\"cassetteitem_content\")\n",
    "    title=detail.find(\"div\",class_=\"cassetteitem_content-title\").text\n",
    "    address=detail.find(\"li\",class_=\"cassetteitem_detail-col1\").text\n",
    "    access=detail.find(\"li\",class_=\"cassetteitem_detail-col2\").text\n",
    "    age=detail.find(\"li\",class_=\"cassetteitem_detail-col3\").text\n",
    "    tr_tags=table.find_all(\"tr\",class_=\"js-cassette_link\")\n",
    "    for tr_tag in tr_tags:\n",
    "        floor,price,first_fee,capasity=tr_tag.find_all(\"td\")[2:6]\n",
    "        fee,management_fee=price.find_all(\"li\")\n",
    "        deposit,gratuity=first_fee.find_all(\"li\")\n",
    "        madori,menseki=capasity.find_all(\"li\")\n",
    "        d={ \"title\":title,\n",
    "            \"address\":address,\n",
    "            \"access\":access,\n",
    "            \"age\":age,\n",
    "            \"floor\":floor.text,\n",
    "            \"fee\":fee.text,\n",
    "            \"management_fee\":management_fee.text,\n",
    "            \"deposit\":deposit.text,\n",
    "            \"gratuity\":gratuity.text,\n",
    "            \"madori\":madori.text,\n",
    "            \"menseki\":menseki.text,\n",
    "             }\n",
    "        d_list.append(d)\n",
    "        \n"
   ]
  },
  {
   "cell_type": "code",
   "execution_count": 15,
   "id": "dd4c7133-6ee5-4ed5-971c-086280608cd1",
   "metadata": {},
   "outputs": [],
   "source": [
    "from pprint import pprint"
   ]
  },
  {
   "cell_type": "code",
   "execution_count": 16,
   "id": "6412c69c-4ccf-4313-a94f-9b3e80481174",
   "metadata": {},
   "outputs": [
    {
     "name": "stdout",
     "output_type": "stream",
     "text": [
      "{'access': '\\nＪＲ北陸本線/福井駅 バス9分 (バス停)若杉第２ 歩7分\\n\\n\\n',\n",
      " 'address': '福井県福井市加茂緑苑町',\n",
      " 'age': '\\n築6年\\n2階建\\n',\n",
      " 'deposit': '-',\n",
      " 'fee': '4.85万円',\n",
      " 'floor': '\\r\\n\\t\\t\\t\\t\\t\\t\\t\\t\\t\\t\\t1階',\n",
      " 'gratuity': '4.85万円',\n",
      " 'madori': '1K',\n",
      " 'management_fee': '3800円',\n",
      " 'menseki': '32.21m2',\n",
      " 'title': 'サン・ブルック'}\n",
      "\n",
      "{'access': '\\nＪＲ北陸本線/福井駅 歩40分\\nバス/堀の宮第2バス停 歩5分\\n\\n',\n",
      " 'address': '福井県福井市堀ノ宮１',\n",
      " 'age': '\\n築26年\\n2階建\\n',\n",
      " 'deposit': '-',\n",
      " 'fee': '4.85万円',\n",
      " 'floor': '\\r\\n\\t\\t\\t\\t\\t\\t\\t\\t\\t\\t\\t1階',\n",
      " 'gratuity': '4.85万円',\n",
      " 'madori': '1K',\n",
      " 'management_fee': '3800円',\n",
      " 'menseki': '32.21m2',\n",
      " 'title': 'トリアノン堀ノ宮'}\n"
     ]
    }
   ],
   "source": [
    "pprint(d_list[0])\n",
    "print()\n",
    "pprint(d_list[1])"
   ]
  },
  {
   "cell_type": "code",
   "execution_count": null,
   "id": "dae63b4f-f00f-4a26-a453-c0d4d49ef740",
   "metadata": {},
   "outputs": [],
   "source": []
  }
 ],
 "metadata": {
  "kernelspec": {
   "display_name": "Python 3",
   "language": "python",
   "name": "python3"
  },
  "language_info": {
   "codemirror_mode": {
    "name": "ipython",
    "version": 3
   },
   "file_extension": ".py",
   "mimetype": "text/x-python",
   "name": "python",
   "nbconvert_exporter": "python",
   "pygments_lexer": "ipython3",
   "version": "3.8.8"
  },
  "widgets": {
   "application/vnd.jupyter.widget-state+json": {
    "state": {},
    "version_major": 2,
    "version_minor": 0
   }
  }
 },
 "nbformat": 4,
 "nbformat_minor": 5
}
